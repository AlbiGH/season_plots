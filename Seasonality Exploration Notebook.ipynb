{
 "cells": [
  {
   "cell_type": "markdown",
   "id": "9a3a0d5a-b5bb-489f-aa24-3ffe871080bc",
   "metadata": {},
   "source": [
    "# Seasonality Exploration\n",
    "\n",
    "This notebook takes in sales data for a company and produces a number of plots that explore seasonality in sales at different levels. Data can be inputted in a variety of ways, but all of the functions with expect a DataFrame with two columns, the date (at the daily level preferably) and the sales"
   ]
  },
  {
   "cell_type": "code",
   "execution_count": 1,
   "id": "ea612406-b8a9-47d9-b97c-79e2d87079d1",
   "metadata": {},
   "outputs": [],
   "source": [
    "import numpy as np\n",
    "import pandas as pd\n",
    "import matplotlib.pyplot as plt"
   ]
  },
  {
   "cell_type": "code",
   "execution_count": null,
   "id": "5e73c009-5c51-4309-a7b7-937f2806938f",
   "metadata": {},
   "outputs": [],
   "source": []
  }
 ],
 "metadata": {
  "kernelspec": {
   "display_name": "Python 3 (ipykernel)",
   "language": "python",
   "name": "python3"
  },
  "language_info": {
   "codemirror_mode": {
    "name": "ipython",
    "version": 3
   },
   "file_extension": ".py",
   "mimetype": "text/x-python",
   "name": "python",
   "nbconvert_exporter": "python",
   "pygments_lexer": "ipython3",
   "version": "3.11.3"
  }
 },
 "nbformat": 4,
 "nbformat_minor": 5
}
